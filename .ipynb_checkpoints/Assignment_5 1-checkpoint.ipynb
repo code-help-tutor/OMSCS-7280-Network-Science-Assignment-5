{
 "cells": [
  {
   "cell_type": "code",
   "execution_count": 1,
   "metadata": {},
   "outputs": [],
   "source": [
    "import random\n",
    "import itertools\n",
    "import collections\n",
    "\n",
    "import networkx as nx\n",
    "import numpy as np\n",
    "import community\n",
    "\n",
    "import seaborn as sns\n",
    "import matplotlib.pyplot as plt"
   ]
  },
  {
   "cell_type": "code",
   "execution_count": 2,
   "metadata": {},
   "outputs": [
    {
     "name": "stdout",
     "output_type": "stream",
     "text": [
      "Number of nodes: 115\n",
      "Number of edges: 613\n"
     ]
    }
   ],
   "source": [
    "## Part 1 - Modeling the NCAA College Football 2000 Network ##\n",
    "G = nx.read_gml(\"football.gml\")\n",
    "\n",
    "# Print the number of nodes and edges\n",
    "print(\"Number of nodes:\", G.number_of_nodes())\n",
    "print(\"Number of edges:\", G.number_of_edges())"
   ]
  },
  {
   "cell_type": "markdown",
   "metadata": {},
   "source": [
    "### 1.1 Structural Properties of the Graph\n"
   ]
  },
  {
   "cell_type": "code",
   "execution_count": 3,
   "metadata": {},
   "outputs": [
    {
     "data": {
      "image/png": "[encoded data removed]",
      "text/plain": [
       "<Figure size 432x288 with 1 Axes>"
      ]
     },
     "metadata": {
      "needs_background": "light"
     },
     "output_type": "display_data"
    }
   ],
   "source": [
    "# Plot the degree distribution using histogram.\n",
    "ds = dict(G.degree()).values()\n",
    "plt.hist(ds)\n",
    "plt.xlabel(\"degree\")\n",
    "plt.ylabel(\"number\")\n",
    "plt.show()"
   ]
  },
  {
   "cell_type": "code",
   "execution_count": 4,
   "metadata": {},
   "outputs": [
    {
     "ename": "AttributeError",
     "evalue": "module 'community' has no attribute 'community_louvain'",
     "output_type": "error",
     "traceback": [
      "\u001b[0;31m---------------------------------------------------------------------------\u001b[0m",
      "\u001b[0;31mAttributeError\u001b[0m                            Traceback (most recent call last)",
      "\u001b[0;32m<ipython-input-4-07ef574b50e5>\u001b[0m in \u001b[0;36m<module>\u001b[0;34m\u001b[0m\n\u001b[1;32m      5\u001b[0m \u001b[0mbest_res\u001b[0m \u001b[0;34m=\u001b[0m \u001b[0;36m1\u001b[0m\u001b[0;34m\u001b[0m\u001b[0;34m\u001b[0m\u001b[0m\n\u001b[1;32m      6\u001b[0m \u001b[0;32mfor\u001b[0m \u001b[0mi\u001b[0m \u001b[0;32min\u001b[0m \u001b[0mrange\u001b[0m\u001b[0;34m(\u001b[0m\u001b[0;36m1\u001b[0m\u001b[0;34m,\u001b[0m \u001b[0;36m10\u001b[0m \u001b[0;34m+\u001b[0m \u001b[0;36m1\u001b[0m\u001b[0;34m)\u001b[0m\u001b[0;34m:\u001b[0m\u001b[0;34m\u001b[0m\u001b[0;34m\u001b[0m\u001b[0m\n\u001b[0;32m----> 7\u001b[0;31m     \u001b[0mpred\u001b[0m \u001b[0;34m=\u001b[0m \u001b[0mlist\u001b[0m\u001b[0;34m(\u001b[0m\u001b[0mdict\u001b[0m\u001b[0;34m(\u001b[0m\u001b[0mcommunity\u001b[0m\u001b[0;34m.\u001b[0m\u001b[0mcommunity_louvain\u001b[0m\u001b[0;34m.\u001b[0m\u001b[0mbest_partition\u001b[0m\u001b[0;34m(\u001b[0m\u001b[0mG\u001b[0m\u001b[0;34m,\u001b[0m \u001b[0mresolution\u001b[0m\u001b[0;34m=\u001b[0m\u001b[0mi\u001b[0m\u001b[0;34m)\u001b[0m\u001b[0;34m)\u001b[0m\u001b[0;34m.\u001b[0m\u001b[0mvalues\u001b[0m\u001b[0;34m(\u001b[0m\u001b[0;34m)\u001b[0m\u001b[0;34m)\u001b[0m\u001b[0;34m\u001b[0m\u001b[0;34m\u001b[0m\u001b[0m\n\u001b[0m\u001b[1;32m      8\u001b[0m     \u001b[0mscore\u001b[0m \u001b[0;34m=\u001b[0m \u001b[0mnormalized_mutual_info_score\u001b[0m\u001b[0;34m(\u001b[0m\u001b[0mpred\u001b[0m\u001b[0;34m,\u001b[0m \u001b[0mgt\u001b[0m\u001b[0;34m)\u001b[0m\u001b[0;34m\u001b[0m\u001b[0;34m\u001b[0m\u001b[0m\n\u001b[1;32m      9\u001b[0m     \u001b[0;32mif\u001b[0m \u001b[0mscore\u001b[0m \u001b[0;34m>\u001b[0m \u001b[0mbest_score\u001b[0m\u001b[0;34m:\u001b[0m\u001b[0;34m\u001b[0m\u001b[0;34m\u001b[0m\u001b[0m\n",
      "\u001b[0;31mAttributeError\u001b[0m: module 'community' has no attribute 'community_louvain'"
     ]
    }
   ],
   "source": [
    "# Find the resolution parameter that leads to highest NMI.\n",
    "from sklearn.metrics.cluster import normalized_mutual_info_score\n",
    "gt = [list(x.values())[0] for x in dict(G.nodes.data()).values()]\n",
    "best_score = 0\n",
    "best_res = 1\n",
    "for i in range(1, 10 + 1):\n",
    "    pred = list(dict(community.community_louvain.best_partition(G, resolution=i)).values())\n",
    "    score = normalized_mutual_info_score(pred, gt)\n",
    "    if score > best_score:\n",
    "        best_res = i\n",
    "        best_score = score\n",
    "print(\"The resolution value that leads to the highest NMI is\", best_res)"
   ]
  },
  {
   "cell_type": "code",
   "execution_count": null,
   "metadata": {},
   "outputs": [],
   "source": [
    "# Plot the inter-community connection density as heatmap.\n",
    "best_part = dict(community.community_louvain.best_partition(G, resolution=2))\n",
    "\n",
    "nr = collections.Counter(list(best_part.values()))\n",
    "r = len(nr.keys())\n",
    "P = np.zeros((r, r))\n",
    "for vertex in G.nodes():\n",
    "    arr = np.zeros(r)\n",
    "    for neighbor in G[vertex]:\n",
    "        arr[best_part[neighbor]] = 1\n",
    "    P[best_part[vertex]] += np.array(arr)\n",
    "\n",
    "for i in range(r):\n",
    "    P[i] = P[i] / nr[i]\n",
    "       \n",
    "ax = sns.heatmap(P)\n",
    "plt.show()\n"
   ]
  },
  {
   "cell_type": "code",
   "execution_count": null,
   "metadata": {},
   "outputs": [],
   "source": [
    "# Print the:\n",
    "# network diameter,\n",
    "print(\"network diameter is\", nx.diameter(G))\n",
    "# characteristic path length (CPL),\n",
    "print(\"characteristic path length is\", nx.average_shortest_path_length(G))\n",
    "# average clustering coefficient,\n",
    "print(\"average clustering coefficient is\", nx.average_clustering(G))\n",
    "# transitivity, and assortativity. \n",
    "print(\"transitivity is\", nx.transitivity(G))\n",
    "print(\"assortativity is\", nx.assortativity.degree_assortativity_coefficient(G))"
   ]
  },
  {
   "cell_type": "markdown",
   "metadata": {},
   "source": [
    "### 1.2 Configuration Model"
   ]
  },
  {
   "cell_type": "code",
   "execution_count": null,
   "metadata": {},
   "outputs": [],
   "source": [
    "\n",
    "# Generate Graphs\n",
    "graphs = []\n",
    "for i in range(100):\n",
    "    g = nx.configuration_model(dict(G.degree()).values(), create_using=nx.Graph())\n",
    "    graphs.append(g)"
   ]
  },
  {
   "cell_type": "code",
   "execution_count": null,
   "metadata": {},
   "outputs": [],
   "source": [
    "# Plot (Histogram /Boxplot):\n",
    "ds = []\n",
    "cpls = []\n",
    "accs = []\n",
    "trans = []\n",
    "assors = []\n",
    "for i in range(100):\n",
    "    g = graphs[i]\n",
    "    ds.append(nx.diameter(g))\n",
    "    cpls.append(nx.average_shortest_path_length(g))\n",
    "    accs.append(nx.average_clustering(g))\n",
    "    trans.append(nx.transitivity(g))\n",
    "    assors.append(nx.assortativity.degree_assortativity_coefficient(g))\n",
    "# network diameter,\n",
    "plt.hist(ds)\n",
    "plt.show()\n",
    "# CPL,\n",
    "plt.cla()\n",
    "plt.boxplot(cpls)\n",
    "plt.show()\n",
    "# average clustering coefficient,\n",
    "plt.cla()\n",
    "plt.boxplot(accs)\n",
    "plt.show()\n",
    "# transitivity,\n",
    "plt.cla()\n",
    "plt.boxplot(trans)\n",
    "plt.show()\n",
    "# assortativity. \n",
    "plt.cla()\n",
    "plt.hist(assors)\n",
    "plt.show()"
   ]
  },
  {
   "cell_type": "markdown",
   "metadata": {},
   "source": [
    "### 1.3 Stochastic Block Model Graphs"
   ]
  },
  {
   "cell_type": "code",
   "execution_count": null,
   "metadata": {},
   "outputs": [],
   "source": [
    "\n",
    "# Generate Graphs\n",
    "graphs = []\n",
    "num = list(dict(sorted(nr.items(), key=lambda x: x[0])).values())\n",
    "for i in range(100):\n",
    "    g = nx.stochastic_block_model(num, (P + P.T) / 2)\n",
    "    graphs.append(g)\n",
    "    "
   ]
  },
  {
   "cell_type": "code",
   "execution_count": null,
   "metadata": {},
   "outputs": [],
   "source": [
    "# Plot (Histogram /Boxplot):\n",
    "ds = []\n",
    "cpls = []\n",
    "accs = []\n",
    "trans = []\n",
    "assors = []\n",
    "for i in range(100):\n",
    "    g = graphs[i]\n",
    "    ds.append(nx.diameter(g))\n",
    "    cpls.append(nx.average_shortest_path_length(g))\n",
    "    accs.append(nx.average_clustering(g))\n",
    "    trans.append(nx.transitivity(g))\n",
    "    assors.append(nx.assortativity.degree_assortativity_coefficient(g))\n",
    "# network diameter,\n",
    "plt.hist(ds)\n",
    "plt.show()\n",
    "# CPL,\n",
    "plt.cla()\n",
    "plt.boxplot(cpls)\n",
    "plt.show()\n",
    "# average clustering coefficient,\n",
    "plt.cla()\n",
    "plt.boxplot(accs)\n",
    "plt.show()\n",
    "# transitivity,\n",
    "plt.cla()\n",
    "plt.boxplot(trans)\n",
    "plt.show()\n",
    "# assortativity. \n",
    "plt.cla()\n",
    "plt.hist(assors)\n",
    "plt.show()"
   ]
  },
  {
   "cell_type": "markdown",
   "metadata": {},
   "source": [
    "### 1.4 Hierarchical Random Graphs"
   ]
  },
  {
   "cell_type": "code",
   "execution_count": null,
   "metadata": {},
   "outputs": [],
   "source": [
    "dendrogram = nx.read_gml(\"football-hrg.gml\")"
   ]
  },
  {
   "cell_type": "code",
   "execution_count": null,
   "metadata": {},
   "outputs": [],
   "source": [
    "# Generate Graphs\n"
   ]
  },
  {
   "cell_type": "code",
   "execution_count": null,
   "metadata": {},
   "outputs": [],
   "source": [
    "# Plot (Histogram /Boxplot):\n",
    "# network diameter,\n",
    "# CPL,\n",
    "# average clustering coefficient,\n",
    "# transitivity,\n",
    "# assortativity. "
   ]
  },
  {
   "cell_type": "markdown",
   "metadata": {},
   "source": [
    "### 1.5 Best Fit"
   ]
  },
  {
   "cell_type": "code",
   "execution_count": null,
   "metadata": {},
   "outputs": [],
   "source": [
    "# Print the average value and standard deviation for:\n",
    "# the diameter,\n",
    "# CPL,\n",
    "# average clustering coefficient,\n",
    "# transitivity,\n",
    "# assortativity "
   ]
  },
  {
   "cell_type": "code",
   "execution_count": null,
   "metadata": {},
   "outputs": [],
   "source": [
    "# Configuration Model Graphs\n",
    "# Print the average value and standard deviation for:\n",
    "# the diameter,\n",
    "# CPL,\n",
    "# average clustering coefficient,\n",
    "# transitivity,\n",
    "# assortativity "
   ]
  },
  {
   "cell_type": "code",
   "execution_count": null,
   "metadata": {},
   "outputs": [],
   "source": [
    "# Hypothesis Tests\n",
    "# Print the following\n",
    "# P-Values for diameter,\n",
    "# CPL,\n",
    "# average clustering coefficient,\n",
    "# transitivity,\n",
    "# assortativity "
   ]
  },
  {
   "cell_type": "code",
   "execution_count": null,
   "metadata": {},
   "outputs": [],
   "source": [
    "# Stochastic Block Model Graphs\n",
    "# Print the average value and standard deviation for:\n",
    "# the diameter,\n",
    "# CPL,\n",
    "# average clustering coefficient,\n",
    "# transitivity,\n",
    "# assortativity "
   ]
  },
  {
   "cell_type": "code",
   "execution_count": null,
   "metadata": {},
   "outputs": [],
   "source": [
    "# Hypothesis Tests\n",
    "# Print the following\n",
    "# P-Values for diameter,\n",
    "# CPL,\n",
    "# average clustering coefficient,\n",
    "# transitivity,\n",
    "# assortativity "
   ]
  },
  {
   "cell_type": "code",
   "execution_count": null,
   "metadata": {},
   "outputs": [],
   "source": [
    "# Hierarchical Random Graphs\n",
    "# Print the average value and standard deviation for:\n",
    "# the diameter,\n",
    "# CPL,\n",
    "# average clustering coefficient,\n",
    "# transitivity,\n",
    "# assortativity "
   ]
  },
  {
   "cell_type": "code",
   "execution_count": null,
   "metadata": {},
   "outputs": [],
   "source": [
    "# Hypothesis Tests\n",
    "# Print the following\n",
    "# P-Values for diameter,\n",
    "# CPL,\n",
    "# average clustering coefficient,\n",
    "# transitivity,\n",
    "# assortativity "
   ]
  },
  {
   "cell_type": "code",
   "execution_count": null,
   "metadata": {},
   "outputs": [],
   "source": [
    "# Which model do you think best approximates the empirical network? Explain your answer. \n"
   ]
  },
  {
   "cell_type": "markdown",
   "metadata": {},
   "source": [
    "## Part 2"
   ]
  },
  {
   "cell_type": "code",
   "execution_count": null,
   "metadata": {},
   "outputs": [],
   "source": [
    "## Part 2 - Estimate the number of nodes and edges in Slashdot dataset ##\n",
    "G = nx.read_edgelist(\"soc-Slashdot0902.txt\", delimiter=\"\\t\", create_using=nx.DiGraph)\n",
    "G.remove_edges_from(nx.selfloop_edges(G))"
   ]
  },
  {
   "cell_type": "code",
   "execution_count": null,
   "metadata": {},
   "outputs": [],
   "source": [
    "# Part 2.1\n",
    "def capture_recapture(graph, num):\n",
    "    nodes = graph.nodes()\n",
    "    select1 = np.random.choice(nodes, num)\n",
    "    select2 = np.random.choice(nodes, num)\n",
    "    return num * num / len(set(select1).intersection(set(select2)))\n",
    "\n",
    "esti = []\n",
    "for _ in range(1000):\n",
    "    esti.append(capture_recapture(G, 2000))\n",
    "\n",
    "plt.hist(esti)\n",
    "plt.show()"
   ]
  },
  {
   "cell_type": "code",
   "execution_count": null,
   "metadata": {},
   "outputs": [],
   "source": [
    "# Part 2.2\n",
    "estis = []\n",
    "stds = []\n",
    "nums = [500, 1000, 2000, 5000, 10000]\n",
    "for num in nums:\n",
    "    esti = []\n",
    "    count = 0\n",
    "    while count < 1000:\n",
    "        try:\n",
    "            esti.append(capture_recapture(G, num))\n",
    "            count += 1\n",
    "        except:\n",
    "            continue\n",
    "    estis.append(np.average(esti))\n",
    "    stds.append(np.std(esti))"
   ]
  },
  {
   "cell_type": "code",
   "execution_count": null,
   "metadata": {},
   "outputs": [],
   "source": [
    "plt.errorbar(nums, estis, stds, linestyle='None', marker='o')\n",
    "plt.show()"
   ]
  },
  {
   "cell_type": "markdown",
   "metadata": {},
   "source": [
    "We can see that if we using samples larger than 2000, we will get very close to the actual number on average, and if we continue using larger samples, the std will becomes smaller and smaller."
   ]
  },
  {
   "cell_type": "code",
   "execution_count": null,
   "metadata": {},
   "outputs": [],
   "source": [
    "# Part 2.3\n",
    "def HT_sampling(graph):\n",
    "    num = 5000\n",
    "    nodes = graph.nodes()\n",
    "    edges = {}\n",
    "    for i in range(100):\n",
    "        select = np.random.choice(nodes, num)\n",
    "        sg = G.subgraph(select)\n",
    "        for e in sg.edges():\n",
    "            try:\n",
    "                edges[e] += 1\n",
    "            except:\n",
    "                edges[e] = 1\n",
    "    total_esti = 0\n",
    "    total_sum = np.sum(list(edges.values()))\n",
    "    for edge, num in edges.items():\n",
    "        total_esti += total_sum / num\n",
    "    return int(total_esti)\n",
    "    "
   ]
  },
  {
   "cell_type": "code",
   "execution_count": null,
   "metadata": {},
   "outputs": [],
   "source": [
    "result = []\n",
    "for i in range(100):\n",
    "    result.append(HT_sampling(G))"
   ]
  },
  {
   "cell_type": "code",
   "execution_count": null,
   "metadata": {},
   "outputs": [],
   "source": [
    "plt.hist(result)\n",
    "plt.show()"
   ]
  },
  {
   "cell_type": "code",
   "execution_count": null,
   "metadata": {},
   "outputs": [],
   "source": []
  }
 ],
 "metadata": {
  "kernelspec": {
   "display_name": "Python 3",
   "language": "python",
   "name": "python3"
  },
  "language_info": {
   "codemirror_mode": {
    "name": "ipython",
    "version": 3
   },
   "file_extension": ".py",
   "mimetype": "text/x-python",
   "name": "python",
   "nbconvert_exporter": "python",
   "pygments_lexer": "ipython3",
   "version": "3.8.8"
  },
  "vscode": {
   "interpreter": {
    "hash": "429c4da532d5a49305ad374da5bd9411413fc9c5f93bdb5e51c34bc796003ebd"
   }
  }
 },
 "nbformat": 4,
 "nbformat_minor": 4
}
