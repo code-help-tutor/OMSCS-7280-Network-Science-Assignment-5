{
 "cells": [
  {
   "cell_type": "code",
   "execution_count": 18,
   "metadata": {},
   "outputs": [],
   "source": [
    "import random\n",
    "import itertools\n",
    "\n",
    "import networkx as nx\n",
    "import numpy as np\n",
    "import community\n",
    "\n",
    "import matplotlib.pyplot as plt"
   ]
  },
  {
   "cell_type": "code",
   "execution_count": 19,
   "metadata": {},
   "outputs": [],
   "source": [
    "## Part 1 - Modeling the NCAA College Football 2000 Network ##\n",
    "G = nx.read_gml(\"football.gml\")\n",
    "\n",
    "# Print the number of nodes and edges"
   ]
  },
  {
   "cell_type": "markdown",
   "metadata": {},
   "source": [
    "### 1.1 Structural Properties of the Graph\n"
   ]
  },
  {
   "cell_type": "code",
   "execution_count": 8,
   "metadata": {},
   "outputs": [],
   "source": [
    "# Plot the degree distribution using histogram."
   ]
  },
  {
   "cell_type": "code",
   "execution_count": null,
   "metadata": {},
   "outputs": [],
   "source": [
    "# Find the resolution parameter that leads to highest NMI."
   ]
  },
  {
   "cell_type": "code",
   "execution_count": 9,
   "metadata": {},
   "outputs": [],
   "source": [
    "# Plot the inter-community connection density as heatmap."
   ]
  },
  {
   "cell_type": "code",
   "execution_count": 10,
   "metadata": {},
   "outputs": [],
   "source": [
    "# Print the:\n",
    "# network diameter,\n",
    "# characteristic path length (CPL),\n",
    "# average clustering coefficient,\n",
    "# transitivity, and assortativity. "
   ]
  },
  {
   "cell_type": "markdown",
   "metadata": {},
   "source": [
    "### 1.2 Configuration Model"
   ]
  },
  {
   "cell_type": "code",
   "execution_count": 11,
   "metadata": {},
   "outputs": [],
   "source": [
    "\n",
    "# Generate Graphs\n"
   ]
  },
  {
   "cell_type": "code",
   "execution_count": 12,
   "metadata": {},
   "outputs": [],
   "source": [
    "# Plot (Histogram /Boxplot):\n",
    "# network diameter,\n",
    "# CPL,\n",
    "# average clustering coefficient,\n",
    "# transitivity,\n",
    "# assortativity. "
   ]
  },
  {
   "cell_type": "markdown",
   "metadata": {},
   "source": [
    "### 1.3 Stochastic Block Model Graphs"
   ]
  },
  {
   "cell_type": "code",
   "execution_count": 13,
   "metadata": {},
   "outputs": [],
   "source": [
    "\n",
    "# Generate Graphs\n",
    "\n",
    "    "
   ]
  },
  {
   "cell_type": "code",
   "execution_count": 14,
   "metadata": {},
   "outputs": [],
   "source": [
    "# Plot (Histogram /Boxplot):\n",
    "# network diameter,\n",
    "# CPL,\n",
    "# average clustering coefficient,\n",
    "# transitivity,\n",
    "# assortativity. "
   ]
  },
  {
   "cell_type": "markdown",
   "metadata": {},
   "source": [
    "### 1.4 Hierarchical Random Graphs"
   ]
  },
  {
   "cell_type": "code",
   "execution_count": 15,
   "metadata": {},
   "outputs": [],
   "source": [
    "dendrogram = nx.read_gml(\"football-hrg.gml\")"
   ]
  },
  {
   "cell_type": "code",
   "execution_count": 16,
   "metadata": {},
   "outputs": [],
   "source": [
    "# Generate Graphs\n"
   ]
  },
  {
   "cell_type": "code",
   "execution_count": 17,
   "metadata": {},
   "outputs": [],
   "source": [
    "# Plot (Histogram /Boxplot):\n",
    "# network diameter,\n",
    "# CPL,\n",
    "# average clustering coefficient,\n",
    "# transitivity,\n",
    "# assortativity. "
   ]
  },
  {
   "cell_type": "markdown",
   "metadata": {},
   "source": [
    "### 1.5 Best Fit"
   ]
  },
  {
   "cell_type": "code",
   "execution_count": 16,
   "metadata": {},
   "outputs": [],
   "source": [
    "# Print the average value and standard deviation for:\n",
    "# the diameter,\n",
    "# CPL,\n",
    "# average clustering coefficient,\n",
    "# transitivity,\n",
    "# assortativity "
   ]
  },
  {
   "cell_type": "code",
   "execution_count": 17,
   "metadata": {},
   "outputs": [],
   "source": [
    "# Configuration Model Graphs\n",
    "# Print the average value and standard deviation for:\n",
    "# the diameter,\n",
    "# CPL,\n",
    "# average clustering coefficient,\n",
    "# transitivity,\n",
    "# assortativity "
   ]
  },
  {
   "cell_type": "code",
   "execution_count": 18,
   "metadata": {},
   "outputs": [],
   "source": [
    "# Hypothesis Tests\n",
    "# Print the following\n",
    "# P-Values for diameter,\n",
    "# CPL,\n",
    "# average clustering coefficient,\n",
    "# transitivity,\n",
    "# assortativity "
   ]
  },
  {
   "cell_type": "code",
   "execution_count": 19,
   "metadata": {},
   "outputs": [],
   "source": [
    "# Stochastic Block Model Graphs\n",
    "# Print the average value and standard deviation for:\n",
    "# the diameter,\n",
    "# CPL,\n",
    "# average clustering coefficient,\n",
    "# transitivity,\n",
    "# assortativity "
   ]
  },
  {
   "cell_type": "code",
   "execution_count": 20,
   "metadata": {},
   "outputs": [],
   "source": [
    "# Hypothesis Tests\n",
    "# Print the following\n",
    "# P-Values for diameter,\n",
    "# CPL,\n",
    "# average clustering coefficient,\n",
    "# transitivity,\n",
    "# assortativity "
   ]
  },
  {
   "cell_type": "code",
   "execution_count": 21,
   "metadata": {},
   "outputs": [],
   "source": [
    "# Hierarchical Random Graphs\n",
    "# Print the average value and standard deviation for:\n",
    "# the diameter,\n",
    "# CPL,\n",
    "# average clustering coefficient,\n",
    "# transitivity,\n",
    "# assortativity "
   ]
  },
  {
   "cell_type": "code",
   "execution_count": 22,
   "metadata": {},
   "outputs": [],
   "source": [
    "# Hypothesis Tests\n",
    "# Print the following\n",
    "# P-Values for diameter,\n",
    "# CPL,\n",
    "# average clustering coefficient,\n",
    "# transitivity,\n",
    "# assortativity "
   ]
  },
  {
   "cell_type": "code",
   "execution_count": 23,
   "metadata": {},
   "outputs": [],
   "source": [
    "# Which model do you think best approximates the empirical network? Explain your answer. \n"
   ]
  },
  {
   "cell_type": "markdown",
   "metadata": {},
   "source": [
    "## Part 2"
   ]
  },
  {
   "cell_type": "code",
   "execution_count": 24,
   "metadata": {},
   "outputs": [],
   "source": [
    "## Part 2 - Estimate the number of nodes and edges in Slashdot dataset ##\n",
    "G = nx.read_edgelist(\"soc-Slashdot0902.txt\", delimiter=\"\\t\", create_using=nx.DiGraph)\n",
    "G.remove_edges_from(nx.selfloop_edges(G))"
   ]
  },
  {
   "cell_type": "code",
   "execution_count": 25,
   "metadata": {},
   "outputs": [],
   "source": [
    "# Part 2.1"
   ]
  },
  {
   "cell_type": "code",
   "execution_count": 26,
   "metadata": {},
   "outputs": [],
   "source": [
    "# Part 2.2"
   ]
  },
  {
   "cell_type": "code",
   "execution_count": 27,
   "metadata": {},
   "outputs": [],
   "source": [
    "# Part 2.3"
   ]
  },
  {
   "cell_type": "code",
   "execution_count": null,
   "metadata": {},
   "outputs": [],
   "source": []
  }
 ],
 "metadata": {
  "kernelspec": {
   "display_name": "Python 3",
   "language": "python",
   "name": "python3"
  },
  "language_info": {
   "codemirror_mode": {
    "name": "ipython",
    "version": 3
   },
   "file_extension": ".py",
   "mimetype": "text/x-python",
   "name": "python",
   "nbconvert_exporter": "python",
   "pygments_lexer": "ipython3",
   "version": "3.8.5"
  }
 },
 "nbformat": 4,
 "nbformat_minor": 4
}
